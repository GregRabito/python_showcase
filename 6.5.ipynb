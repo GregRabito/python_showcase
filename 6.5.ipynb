{
 "cells": [
  {
   "cell_type": "markdown",
   "id": "552d370b-4bda-453f-b599-142d2e29dc66",
   "metadata": {},
   "source": [
    "# imports"
   ]
  },
  {
   "cell_type": "code",
   "execution_count": null,
   "id": "d1c90440-36c5-400f-bc61-ac4d7ed7d66e",
   "metadata": {
    "tags": []
   },
   "outputs": [],
   "source": [
    "import pandas as pd\n",
    "import numpy as np\n",
    "import seaborn as sns\n",
    "import matplotlib\n",
    "import matplotlib.pyplot as plt\n",
    "import os\n",
    "import sklearn\n",
    "from sklearn.cluster import KMeans\n",
    "import pylab as pl"
   ]
  },
  {
   "cell_type": "code",
   "execution_count": null,
   "id": "b07dfffa-cd4e-4b0a-93cc-6238b3fa72b4",
   "metadata": {
    "tags": []
   },
   "outputs": [],
   "source": [
    "%matplotlib inline"
   ]
  },
  {
   "cell_type": "code",
   "execution_count": null,
   "id": "87d828a2-a45e-4d16-8cf0-7b76d4aab461",
   "metadata": {
    "tags": []
   },
   "outputs": [],
   "source": [
    "path = r'/Users/rabito/Desktop/Rabito Docs/Documents/Career Foundry/Achievement 6/Project'"
   ]
  },
  {
   "cell_type": "code",
   "execution_count": null,
   "id": "31a023e4-ab99-4ff0-af41-924baf83961a",
   "metadata": {
    "tags": []
   },
   "outputs": [],
   "source": [
    "df = pd.read_csv(os.path.join(path,'Homelessness Data','Prepared Data', 'Service.csv'),index_col=0)"
   ]
  },
  {
   "cell_type": "markdown",
   "id": "876f027f-c183-419d-b37e-fe2db63e4197",
   "metadata": {
    "tags": []
   },
   "source": [
    "# work"
   ]
  },
  {
   "cell_type": "code",
   "execution_count": null,
   "id": "6ec8f308-0ece-4a2e-82c9-7876a467d79a",
   "metadata": {
    "tags": []
   },
   "outputs": [],
   "source": [
    "df.head()"
   ]
  },
  {
   "cell_type": "code",
   "execution_count": null,
   "id": "55971d15-1ef2-4ee5-b505-db651a79c271",
   "metadata": {
    "tags": []
   },
   "outputs": [],
   "source": [
    "df_k = df.drop(columns=['Report Date', 'Borough', 'Case Type'], inplace=False)"
   ]
  },
  {
   "cell_type": "code",
   "execution_count": null,
   "id": "c07e4fe5-35dc-41ed-98bf-b1573e9e1101",
   "metadata": {
    "tags": []
   },
   "outputs": [],
   "source": [
    "df_k.describe()"
   ]
  },
  {
   "cell_type": "code",
   "execution_count": null,
   "id": "1c252946-da1c-4630-b9ae-9ea0fa678648",
   "metadata": {
    "tags": []
   },
   "outputs": [],
   "source": [
    "# assigning clusters"
   ]
  },
  {
   "cell_type": "code",
   "execution_count": null,
   "id": "46b4e6c7-e203-459e-853a-59ee236163b4",
   "metadata": {
    "tags": []
   },
   "outputs": [],
   "source": [
    "num_cl = range(1, 10)\n",
    "kmeans = [KMeans(n_clusters=i) for i in num_cl]"
   ]
  },
  {
   "cell_type": "code",
   "execution_count": null,
   "id": "16b2165d-425a-4da0-a763-0d6806664a8f",
   "metadata": {
    "tags": []
   },
   "outputs": [],
   "source": [
    "score = [kmeans[i].fit(df_k).score(df_k) for i in range(len(kmeans))]\n",
    "\n",
    "score"
   ]
  },
  {
   "cell_type": "code",
   "execution_count": null,
   "id": "a5883f03-6d37-4607-bbbd-1428653aa78e",
   "metadata": {
    "tags": []
   },
   "outputs": [],
   "source": [
    "pl.plot(num_cl,score)\n",
    "pl.xlabel('Number of Clusters')\n",
    "pl.ylabel('Score')\n",
    "pl.title('Elbow Curve')\n",
    "pl.show()"
   ]
  },
  {
   "cell_type": "markdown",
   "id": "8b14e728-151a-4a03-b920-60a0e21bb7eb",
   "metadata": {
    "tags": []
   },
   "source": [
    "# k clustering"
   ]
  },
  {
   "cell_type": "code",
   "execution_count": null,
   "id": "ead5aea5-fe59-4e08-826d-14ddd746c5e8",
   "metadata": {
    "tags": []
   },
   "outputs": [],
   "source": [
    "kmeans = KMeans(n_clusters = 3) "
   ]
  },
  {
   "cell_type": "code",
   "execution_count": null,
   "id": "618b1ac5-72ab-46c2-aebb-bc0d06ccf03f",
   "metadata": {
    "tags": []
   },
   "outputs": [],
   "source": [
    "kmeans.fit(df_k)"
   ]
  },
  {
   "cell_type": "code",
   "execution_count": null,
   "id": "f7ffbc98-4002-4d31-b01e-bb39b2e8ba93",
   "metadata": {
    "tags": []
   },
   "outputs": [],
   "source": [
    "df_k['clusters'] = kmeans.fit_predict(df_k)"
   ]
  },
  {
   "cell_type": "code",
   "execution_count": null,
   "id": "0ab40f43-d009-41d6-a394-0ac883eb5d4a",
   "metadata": {
    "tags": []
   },
   "outputs": [],
   "source": [
    "df_k.head()"
   ]
  },
  {
   "cell_type": "code",
   "execution_count": null,
   "id": "23620cb3-7ebf-40c4-b7c3-ebfadc2b179e",
   "metadata": {
    "tags": []
   },
   "outputs": [],
   "source": [
    "df_k['clusters'].value_counts()"
   ]
  },
  {
   "cell_type": "code",
   "execution_count": null,
   "id": "071f47b2-b105-4a78-9a09-625846971112",
   "metadata": {
    "tags": []
   },
   "outputs": [],
   "source": [
    "# Plot the clusters \n",
    "\n",
    "plt.figure(figsize=(12,8))\n",
    "ax = sns.scatterplot(x=df['Cases'], y=df_k['Individuals'], hue=kmeans.labels_, s=100) \n",
    "\n",
    "ax.grid(False)\n",
    "plt.xlabel('Count of Cases')\n",
    "plt.ylabel('Count of Individuals')\n",
    "plt.show()"
   ]
  },
  {
   "cell_type": "code",
   "execution_count": null,
   "id": "591d9e14-ebcd-4d39-9c14-e379b2c9e41d",
   "metadata": {
    "tags": []
   },
   "outputs": [],
   "source": [
    "plt.figure(figsize=(12,8))\n",
    "ax = sns.scatterplot(x=df['Cases'], y=df['Individuals'], hue=kmeans.labels_, s=100)\n",
    "\n",
    "ax.grid(False) \n",
    "plt.xlabel('House age') \n",
    "plt.ylabel('Price per unit') \n",
    "plt.show()"
   ]
  },
  {
   "cell_type": "markdown",
   "id": "f0ff2e97-e006-45a4-989f-2818880d41ee",
   "metadata": {},
   "source": [
    "The "
   ]
  },
  {
   "cell_type": "code",
   "execution_count": null,
   "id": "f950ed4d-8288-40db-8fa4-f737825b8a94",
   "metadata": {
    "tags": []
   },
   "outputs": [],
   "source": [
    "df_k.loc[df_k['clusters'] == 2, 'cluster'] = 'dark purple'\n",
    "df_k.loc[df_k['clusters'] == 1, 'cluster'] = 'purple'\n",
    "df_k.loc[df_k['clusters'] == 0, 'cluster'] = 'pink'"
   ]
  },
  {
   "cell_type": "code",
   "execution_count": null,
   "id": "607a5423-a519-4abf-9ce5-c143e1a54aed",
   "metadata": {
    "tags": []
   },
   "outputs": [],
   "source": [
    "df.loc[df_k['clusters'] == 2, 'cluster'] = 'dark purple'\n",
    "df.loc[df_k['clusters'] == 1, 'cluster'] = 'purple'\n",
    "df.loc[df_k['clusters'] == 0, 'cluster'] = 'pink'"
   ]
  },
  {
   "cell_type": "code",
   "execution_count": null,
   "id": "b52d7d5e-ed23-418e-99cc-51e73cb6b217",
   "metadata": {
    "tags": []
   },
   "outputs": [],
   "source": [
    "df_k.head()"
   ]
  },
  {
   "cell_type": "code",
   "execution_count": null,
   "id": "169807f5-e44b-4404-8dd4-6526f5328adf",
   "metadata": {
    "tags": []
   },
   "outputs": [],
   "source": [
    "df['clusters']=df_k['clusters']"
   ]
  },
  {
   "cell_type": "code",
   "execution_count": null,
   "id": "925037bb-1009-4a66-b7c9-d03627187993",
   "metadata": {
    "tags": []
   },
   "outputs": [],
   "source": [
    "df.head()"
   ]
  },
  {
   "cell_type": "code",
   "execution_count": null,
   "id": "617c77ff-5c10-4af9-959f-64966311db65",
   "metadata": {
    "tags": []
   },
   "outputs": [],
   "source": [
    "df.groupby('cluster').agg({'Community District':['mean', 'median'], \n",
    "                         'Cases':['mean', 'median'], \n",
    "                         'Individuals':['mean', 'median']})"
   ]
  },
  {
   "cell_type": "markdown",
   "id": "82892a44-3868-43d1-9b34-0d0d0eb92aee",
   "metadata": {},
   "source": [
    "# export\n"
   ]
  },
  {
   "cell_type": "code",
   "execution_count": null,
   "id": "32538f7d-928a-41d5-9ce9-461b92f666fb",
   "metadata": {
    "tags": []
   },
   "outputs": [],
   "source": [
    "df.to_csv(os.path.join(path,'Homelessness Data','Prepared Data', 'Service.csv'))"
   ]
  }
 ],
 "metadata": {
  "kernelspec": {
   "display_name": "Python 3 (ipykernel)",
   "language": "python",
   "name": "python3"
  },
  "language_info": {
   "codemirror_mode": {
    "name": "ipython",
    "version": 3
   },
   "file_extension": ".py",
   "mimetype": "text/x-python",
   "name": "python",
   "nbconvert_exporter": "python",
   "pygments_lexer": "ipython3",
   "version": "3.11.7"
  }
 },
 "nbformat": 4,
 "nbformat_minor": 5
}
